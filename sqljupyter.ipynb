{
 "cells": [
  {
   "cell_type": "markdown",
   "metadata": {},
   "source": [
    "<h1 style=\"background-color: #FAF9F6; color: #11557C; text-align: left; font-family: 'Arial', sans-serif; padding: 20px; border-bottom: 1px solid #11557C;\">\n",
    "    SQL com Jupyter Notebook  \n",
    "</h1>"
   ]
  },
  {
   "cell_type": "markdown",
   "metadata": {},
   "source": [
    "#### Bibliotecas Utilizadas\n",
    "\n",
    " - pandas \n",
    " - ipython-sql"
   ]
  },
  {
   "cell_type": "markdown",
   "metadata": {
    "jp-MarkdownHeadingCollapsed": true
   },
   "source": [
    "#### Preparando o Banco de Dados"
   ]
  },
  {
   "cell_type": "code",
   "execution_count": 2,
   "metadata": {},
   "outputs": [
    {
     "name": "stdout",
     "output_type": "stream",
     "text": [
      "Banco de Dados 'bancodados.db' OK.\n",
      "Tabelas 'tbClientes' e 'tbProdutos' OK.\n",
      "\n",
      "Tabela 'tbClientes': \n",
      "\n"
     ]
    },
    {
     "data": {
      "text/html": [
       "<div>\n",
       "<style scoped>\n",
       "    .dataframe tbody tr th:only-of-type {\n",
       "        vertical-align: middle;\n",
       "    }\n",
       "\n",
       "    .dataframe tbody tr th {\n",
       "        vertical-align: top;\n",
       "    }\n",
       "\n",
       "    .dataframe thead th {\n",
       "        text-align: right;\n",
       "    }\n",
       "</style>\n",
       "<table border=\"1\" class=\"dataframe\">\n",
       "  <thead>\n",
       "    <tr style=\"text-align: right;\">\n",
       "      <th></th>\n",
       "      <th>ID_Cliente</th>\n",
       "      <th>Nome</th>\n",
       "      <th>Idade</th>\n",
       "      <th>Cidade</th>\n",
       "    </tr>\n",
       "  </thead>\n",
       "  <tbody>\n",
       "    <tr>\n",
       "      <th>0</th>\n",
       "      <td>1</td>\n",
       "      <td>Luiz</td>\n",
       "      <td>30</td>\n",
       "      <td>São Paulo</td>\n",
       "    </tr>\n",
       "    <tr>\n",
       "      <th>1</th>\n",
       "      <td>2</td>\n",
       "      <td>Graziela</td>\n",
       "      <td>28</td>\n",
       "      <td>Rio de Janeiro</td>\n",
       "    </tr>\n",
       "    <tr>\n",
       "      <th>2</th>\n",
       "      <td>3</td>\n",
       "      <td>Ricardo</td>\n",
       "      <td>35</td>\n",
       "      <td>Salvador</td>\n",
       "    </tr>\n",
       "    <tr>\n",
       "      <th>3</th>\n",
       "      <td>4</td>\n",
       "      <td>Mariana</td>\n",
       "      <td>28</td>\n",
       "      <td>São Paulo</td>\n",
       "    </tr>\n",
       "    <tr>\n",
       "      <th>4</th>\n",
       "      <td>5</td>\n",
       "      <td>Leonardo</td>\n",
       "      <td>40</td>\n",
       "      <td>Recife</td>\n",
       "    </tr>\n",
       "    <tr>\n",
       "      <th>5</th>\n",
       "      <td>6</td>\n",
       "      <td>Beatriz</td>\n",
       "      <td>16</td>\n",
       "      <td>São Paulo</td>\n",
       "    </tr>\n",
       "  </tbody>\n",
       "</table>\n",
       "</div>"
      ],
      "text/plain": [
       "   ID_Cliente      Nome  Idade          Cidade\n",
       "0           1      Luiz     30       São Paulo\n",
       "1           2  Graziela     28  Rio de Janeiro\n",
       "2           3   Ricardo     35        Salvador\n",
       "3           4   Mariana     28       São Paulo\n",
       "4           5  Leonardo     40          Recife\n",
       "5           6   Beatriz     16       São Paulo"
      ]
     },
     "execution_count": 2,
     "metadata": {},
     "output_type": "execute_result"
    }
   ],
   "source": [
    "# Preparando o Banco de Dados\n",
    "\n",
    "import pandas as pd\n",
    "import sqlite3 \n",
    "import os\n",
    "\n",
    "\n",
    "# --- Criação dos DataFrames ---\n",
    "# DataFrame de Clientes\n",
    "data_clientes = {\n",
    "    'ID_Cliente': [1, 2, 3, 4, 5, 6],\n",
    "    'Nome': ['Luiz', 'Graziela', 'Ricardo', 'Mariana', 'Leonardo', 'Beatriz'],\n",
    "    'Idade': [30, 28, 35, 28, 40, 16],\n",
    "    'Cidade': ['São Paulo', 'Rio de Janeiro', 'Salvador', 'São Paulo', 'Recife', 'São Paulo']\n",
    "}\n",
    "\n",
    "# DataFrame de Pedidos\n",
    "data_pedidos = {\n",
    "    'ID_Pedido': [101, 102, 103, 104, 105, 106, 107, 108, 109, 110],\n",
    "    'ID_Cliente': [1, 3, 2, 5, 4, 1, 2, 3, 6, 1],\n",
    "    'Produto': ['Camisa', 'Calça', 'Vestido', 'Sapato', 'Blusa', 'Camisa', 'Calça', 'Vestido', 'Sapato', 'Blusa'],\n",
    "    'Quantidade': [2, 1, 3, 2, 1, 2, 1, 3, 2, 1],\n",
    "    'Preco': [30.00, 35.00, 42.00, 15.50, 9.90, 80.00, 12.99, 30.00, 45.25, 5.00]\n",
    "}\n",
    "\n",
    "# Criando o DataFrame de Clientes\n",
    "clientes_df = pd.DataFrame(data_clientes)\n",
    "\n",
    "\n",
    "# Criando o DataFrame de Pedidos\n",
    "pedidos_df = pd.DataFrame(data_pedidos, index=None)\n",
    "\n",
    "\n",
    "# criando a conexão\n",
    "if os.path.exists('bancodados.db'):   \n",
    "    print(\"Banco de Dados 'bancodados.db' OK.\")\n",
    "    try:\n",
    "        clientes_df.to_sql('tbClientes', conexao)\n",
    "        pedidos_df.to_sql('tbPedidos', conexao)\n",
    "    except:\n",
    "        print(\"Tabelas 'tbClientes' e 'tbProdutos' OK.\")\n",
    "    %reload_ext sql\n",
    "else:\n",
    "    conexao = sqlite3.connect('bancodados.db')\n",
    "\n",
    "    # criando as  tabelas no banco de dados\n",
    "    clientes_df.to_sql('tbClientes', conexao)\n",
    "    pedidos_df.to_sql('tbPedidos', conexao)\n",
    "\n",
    "    print(\"Banco de Dados 'bancodados.db' OK.\")\n",
    "    print(\"Tabelas 'tbClientes' e 'tbProdutos' OK.\")\n",
    "    \n",
    "    # load the sql module to iPython\n",
    "    %load_ext sql\n",
    "\n",
    "# apontando para o banco de dados que vamos usar\n",
    "%sql sqlite:///bancodados.db\n",
    "\n",
    "print(\"\\nTabela 'tbClientes': \\n\")\n",
    "clientes_df"
   ]
  },
  {
   "attachments": {
    "image.png": {
     "image/png": "[encoded data removed]"
    }
   },
   "cell_type": "markdown",
   "metadata": {
    "jp-MarkdownHeadingCollapsed": true
   },
   "source": [
    "![image.png](attachment:image.png)"
   ]
  },
  {
   "cell_type": "markdown",
   "metadata": {},
   "source": [
    "#### Índíce\n",
    "\n",
    "- [Consultar todos os dados de uma tabela](#secao-1)\n",
    "- [Selecionando apenas uma coluna](#secao-2)\n",
    "- [Fechar conexão e apagar Banco de Dados](#apagar)\n",
    "\n"
   ]
  },
  {
   "cell_type": "markdown",
   "metadata": {},
   "source": [
    "# SELECT"
   ]
  },
  {
   "cell_type": "markdown",
   "metadata": {},
   "source": [
    "<h3 style=\"background-color: #FAF9F6; color: #11557C; text-align: left; font-family: 'Arial', sans-serif; padding: 10px; border-bottom: 1px solid #11557C;\">\n",
    "    <a id='secao-1'></a>Consultar todos os dados de uma tabela  \n",
    "</h3>"
   ]
  },
  {
   "cell_type": "code",
   "execution_count": 3,
   "metadata": {},
   "outputs": [
    {
     "name": "stdout",
     "output_type": "stream",
     "text": [
      " * sqlite:///bancodados.db\n",
      "Done.\n"
     ]
    },
    {
     "data": {
      "text/html": [
       "<table>\n",
       "    <thead>\n",
       "        <tr>\n",
       "            <th>index</th>\n",
       "            <th>ID_Cliente</th>\n",
       "            <th>Nome</th>\n",
       "            <th>Idade</th>\n",
       "            <th>Cidade</th>\n",
       "        </tr>\n",
       "    </thead>\n",
       "    <tbody>\n",
       "        <tr>\n",
       "            <td>0</td>\n",
       "            <td>1</td>\n",
       "            <td>Luiz</td>\n",
       "            <td>30</td>\n",
       "            <td>São Paulo</td>\n",
       "        </tr>\n",
       "        <tr>\n",
       "            <td>1</td>\n",
       "            <td>2</td>\n",
       "            <td>Graziela</td>\n",
       "            <td>28</td>\n",
       "            <td>Rio de Janeiro</td>\n",
       "        </tr>\n",
       "        <tr>\n",
       "            <td>2</td>\n",
       "            <td>3</td>\n",
       "            <td>Ricardo</td>\n",
       "            <td>35</td>\n",
       "            <td>Salvador</td>\n",
       "        </tr>\n",
       "        <tr>\n",
       "            <td>3</td>\n",
       "            <td>4</td>\n",
       "            <td>Mariana</td>\n",
       "            <td>28</td>\n",
       "            <td>São Paulo</td>\n",
       "        </tr>\n",
       "        <tr>\n",
       "            <td>4</td>\n",
       "            <td>5</td>\n",
       "            <td>Leonardo</td>\n",
       "            <td>40</td>\n",
       "            <td>Recife</td>\n",
       "        </tr>\n",
       "        <tr>\n",
       "            <td>5</td>\n",
       "            <td>6</td>\n",
       "            <td>Beatriz</td>\n",
       "            <td>16</td>\n",
       "            <td>São Paulo</td>\n",
       "        </tr>\n",
       "    </tbody>\n",
       "</table>"
      ],
      "text/plain": [
       "[(0, 1, 'Luiz', 30, 'São Paulo'),\n",
       " (1, 2, 'Graziela', 28, 'Rio de Janeiro'),\n",
       " (2, 3, 'Ricardo', 35, 'Salvador'),\n",
       " (3, 4, 'Mariana', 28, 'São Paulo'),\n",
       " (4, 5, 'Leonardo', 40, 'Recife'),\n",
       " (5, 6, 'Beatriz', 16, 'São Paulo')]"
      ]
     },
     "execution_count": 3,
     "metadata": {},
     "output_type": "execute_result"
    }
   ],
   "source": [
    "%%sql\n",
    "\n",
    "\n",
    "SELECT * FROM tbClientes \n",
    "\n"
   ]
  },
  {
   "cell_type": "markdown",
   "metadata": {},
   "source": [
    "<h3 style=\"background-color: #FAF9F6; color: #11557C; text-align: left; font-family: 'Arial', sans-serif; padding: 20px; border-bottom: 1px solid #11557C;\">\n",
    "    <a id='secao-2'></a> Consultar os dados de uma coluna da tabela\n",
    "</h3>"
   ]
  },
  {
   "cell_type": "code",
   "execution_count": 4,
   "metadata": {},
   "outputs": [
    {
     "name": "stdout",
     "output_type": "stream",
     "text": [
      " * sqlite:///bancodados.db\n",
      "Done.\n"
     ]
    },
    {
     "data": {
      "text/html": [
       "<table>\n",
       "    <thead>\n",
       "        <tr>\n",
       "            <th>Nome</th>\n",
       "        </tr>\n",
       "    </thead>\n",
       "    <tbody>\n",
       "        <tr>\n",
       "            <td>Luiz</td>\n",
       "        </tr>\n",
       "        <tr>\n",
       "            <td>Graziela</td>\n",
       "        </tr>\n",
       "        <tr>\n",
       "            <td>Ricardo</td>\n",
       "        </tr>\n",
       "        <tr>\n",
       "            <td>Mariana</td>\n",
       "        </tr>\n",
       "        <tr>\n",
       "            <td>Leonardo</td>\n",
       "        </tr>\n",
       "        <tr>\n",
       "            <td>Beatriz</td>\n",
       "        </tr>\n",
       "    </tbody>\n",
       "</table>"
      ],
      "text/plain": [
       "[('Luiz',),\n",
       " ('Graziela',),\n",
       " ('Ricardo',),\n",
       " ('Mariana',),\n",
       " ('Leonardo',),\n",
       " ('Beatriz',)]"
      ]
     },
     "execution_count": 4,
     "metadata": {},
     "output_type": "execute_result"
    }
   ],
   "source": [
    "%%sql \n",
    "\n",
    "\n",
    "SELECT \n",
    "    Nome \n",
    "FROM \n",
    "    tbClientes\n",
    "\n"
   ]
  },
  {
   "cell_type": "markdown",
   "metadata": {},
   "source": [
    "<h3 style=\"background-color: #FAF9F6; color: #11557C; text-align: left; font-family: 'Arial', sans-serif; padding: 20px; border-bottom: 1px solid #11557C;\">\n",
    "    <a id='secao-2'></a> Consultar os dados de mais colunas da tabela\n",
    "</h3>"
   ]
  },
  {
   "cell_type": "code",
   "execution_count": 5,
   "metadata": {},
   "outputs": [
    {
     "name": "stdout",
     "output_type": "stream",
     "text": [
      " * sqlite:///bancodados.db\n",
      "Done.\n"
     ]
    },
    {
     "data": {
      "text/html": [
       "<table>\n",
       "    <thead>\n",
       "        <tr>\n",
       "            <th>Nome</th>\n",
       "            <th>Idade</th>\n",
       "        </tr>\n",
       "    </thead>\n",
       "    <tbody>\n",
       "        <tr>\n",
       "            <td>Luiz</td>\n",
       "            <td>30</td>\n",
       "        </tr>\n",
       "        <tr>\n",
       "            <td>Graziela</td>\n",
       "            <td>28</td>\n",
       "        </tr>\n",
       "        <tr>\n",
       "            <td>Ricardo</td>\n",
       "            <td>35</td>\n",
       "        </tr>\n",
       "        <tr>\n",
       "            <td>Mariana</td>\n",
       "            <td>28</td>\n",
       "        </tr>\n",
       "        <tr>\n",
       "            <td>Leonardo</td>\n",
       "            <td>40</td>\n",
       "        </tr>\n",
       "        <tr>\n",
       "            <td>Beatriz</td>\n",
       "            <td>16</td>\n",
       "        </tr>\n",
       "    </tbody>\n",
       "</table>"
      ],
      "text/plain": [
       "[('Luiz', 30),\n",
       " ('Graziela', 28),\n",
       " ('Ricardo', 35),\n",
       " ('Mariana', 28),\n",
       " ('Leonardo', 40),\n",
       " ('Beatriz', 16)]"
      ]
     },
     "execution_count": 5,
     "metadata": {},
     "output_type": "execute_result"
    }
   ],
   "source": [
    "%%sql \n",
    "\n",
    "\n",
    "SELECT \n",
    "    Nome, Idade \n",
    "FROM \n",
    "    tbClientes \n",
    "\n"
   ]
  },
  {
   "cell_type": "markdown",
   "metadata": {},
   "source": [
    "# WHERE"
   ]
  },
  {
   "cell_type": "markdown",
   "metadata": {},
   "source": [
    "<h3 style=\"background-color: #FAF9F6; color: #11557C; text-align: left; font-family: 'Arial', sans-serif; padding: 20px; border-bottom: 1px solid #11557C;\">\n",
    "    <a id='secao-2'></a> Filtrar a pesquisa\n",
    "</h3>"
   ]
  },
  {
   "cell_type": "code",
   "execution_count": 6,
   "metadata": {},
   "outputs": [
    {
     "name": "stdout",
     "output_type": "stream",
     "text": [
      " * sqlite:///bancodados.db\n",
      "Done.\n"
     ]
    },
    {
     "data": {
      "text/html": [
       "<table>\n",
       "    <thead>\n",
       "        <tr>\n",
       "            <th>ID_Cliente</th>\n",
       "            <th>Nome</th>\n",
       "            <th>Idade</th>\n",
       "            <th>Cidade</th>\n",
       "        </tr>\n",
       "    </thead>\n",
       "    <tbody>\n",
       "        <tr>\n",
       "            <td>1</td>\n",
       "            <td>Luiz</td>\n",
       "            <td>30</td>\n",
       "            <td>São Paulo</td>\n",
       "        </tr>\n",
       "        <tr>\n",
       "            <td>3</td>\n",
       "            <td>Ricardo</td>\n",
       "            <td>35</td>\n",
       "            <td>Salvador</td>\n",
       "        </tr>\n",
       "        <tr>\n",
       "            <td>5</td>\n",
       "            <td>Leonardo</td>\n",
       "            <td>40</td>\n",
       "            <td>Recife</td>\n",
       "        </tr>\n",
       "    </tbody>\n",
       "</table>"
      ],
      "text/plain": [
       "[(1, 'Luiz', 30, 'São Paulo'),\n",
       " (3, 'Ricardo', 35, 'Salvador'),\n",
       " (5, 'Leonardo', 40, 'Recife')]"
      ]
     },
     "execution_count": 6,
     "metadata": {},
     "output_type": "execute_result"
    }
   ],
   "source": [
    "%%sql \n",
    "\n",
    "\n",
    "SELECT \n",
    "    ID_Cliente,\n",
    "    Nome,\n",
    "    Idade,\n",
    "    Cidade\n",
    "FROM \n",
    "    tbClientes \n",
    "WHERE \n",
    "    Idade > 28\n",
    "\n",
    "\n"
   ]
  },
  {
   "cell_type": "code",
   "execution_count": 7,
   "metadata": {},
   "outputs": [
    {
     "name": "stdout",
     "output_type": "stream",
     "text": [
      " * sqlite:///bancodados.db\n",
      "Done.\n"
     ]
    },
    {
     "data": {
      "text/html": [
       "<table>\n",
       "    <thead>\n",
       "        <tr>\n",
       "            <th>ID_Cliente</th>\n",
       "            <th>Nome</th>\n",
       "            <th>Idade</th>\n",
       "            <th>Cidade</th>\n",
       "        </tr>\n",
       "    </thead>\n",
       "    <tbody>\n",
       "        <tr>\n",
       "            <td>1</td>\n",
       "            <td>Luiz</td>\n",
       "            <td>30</td>\n",
       "            <td>São Paulo</td>\n",
       "        </tr>\n",
       "    </tbody>\n",
       "</table>"
      ],
      "text/plain": [
       "[(1, 'Luiz', 30, 'São Paulo')]"
      ]
     },
     "execution_count": 7,
     "metadata": {},
     "output_type": "execute_result"
    }
   ],
   "source": [
    "%%sql \n",
    "\n",
    "\n",
    "SELECT \n",
    "    ID_Cliente,\n",
    "    Nome,\n",
    "    Idade,\n",
    "    Cidade\n",
    "FROM \n",
    "    tbClientes \n",
    "WHERE \n",
    "    Idade > 28\n",
    "    AND Cidade = \"São Paulo\"\n",
    "\n",
    "\n"
   ]
  },
  {
   "cell_type": "markdown",
   "metadata": {},
   "source": [
    "---------------\n",
    "PRIMEIRAS 'N' LINHAS"
   ]
  },
  {
   "cell_type": "code",
   "execution_count": 16,
   "metadata": {},
   "outputs": [
    {
     "data": {
      "text/html": [
       "<div>\n",
       "<style scoped>\n",
       "    .dataframe tbody tr th:only-of-type {\n",
       "        vertical-align: middle;\n",
       "    }\n",
       "\n",
       "    .dataframe tbody tr th {\n",
       "        vertical-align: top;\n",
       "    }\n",
       "\n",
       "    .dataframe thead th {\n",
       "        text-align: right;\n",
       "    }\n",
       "</style>\n",
       "<table border=\"1\" class=\"dataframe\">\n",
       "  <thead>\n",
       "    <tr style=\"text-align: right;\">\n",
       "      <th></th>\n",
       "      <th>ID_Cliente</th>\n",
       "      <th>Nome</th>\n",
       "      <th>Idade</th>\n",
       "      <th>Cidade</th>\n",
       "    </tr>\n",
       "  </thead>\n",
       "  <tbody>\n",
       "    <tr>\n",
       "      <th>0</th>\n",
       "      <td>1</td>\n",
       "      <td>Luiz</td>\n",
       "      <td>30</td>\n",
       "      <td>São Paulo</td>\n",
       "    </tr>\n",
       "    <tr>\n",
       "      <th>1</th>\n",
       "      <td>2</td>\n",
       "      <td>Graziela</td>\n",
       "      <td>28</td>\n",
       "      <td>Rio de Janeiro</td>\n",
       "    </tr>\n",
       "  </tbody>\n",
       "</table>\n",
       "</div>"
      ],
      "text/plain": [
       "   ID_Cliente      Nome  Idade          Cidade\n",
       "0           1      Luiz     30       São Paulo\n",
       "1           2  Graziela     28  Rio de Janeiro"
      ]
     },
     "execution_count": 16,
     "metadata": {},
     "output_type": "execute_result"
    }
   ],
   "source": [
    "clientes_df.head(2)"
   ]
  },
  {
   "cell_type": "code",
   "execution_count": 17,
   "metadata": {},
   "outputs": [
    {
     "name": "stdout",
     "output_type": "stream",
     "text": [
      " * sqlite:///bancodados.db\n",
      "Done.\n"
     ]
    },
    {
     "data": {
      "text/html": [
       "<table>\n",
       "    <thead>\n",
       "        <tr>\n",
       "            <th>index</th>\n",
       "            <th>ID_Cliente</th>\n",
       "            <th>Nome</th>\n",
       "            <th>Idade</th>\n",
       "            <th>Cidade</th>\n",
       "        </tr>\n",
       "    </thead>\n",
       "    <tbody>\n",
       "        <tr>\n",
       "            <td>0</td>\n",
       "            <td>1</td>\n",
       "            <td>Luiz</td>\n",
       "            <td>30</td>\n",
       "            <td>São Paulo</td>\n",
       "        </tr>\n",
       "        <tr>\n",
       "            <td>1</td>\n",
       "            <td>2</td>\n",
       "            <td>Graziela</td>\n",
       "            <td>28</td>\n",
       "            <td>Rio de Janeiro</td>\n",
       "        </tr>\n",
       "    </tbody>\n",
       "</table>"
      ],
      "text/plain": [
       "[(0, 1, 'Luiz', 30, 'São Paulo'), (1, 2, 'Graziela', 28, 'Rio de Janeiro')]"
      ]
     },
     "execution_count": 17,
     "metadata": {},
     "output_type": "execute_result"
    }
   ],
   "source": [
    "%%sql \n",
    "\n",
    "SELECT * FROM tbClientes LIMIT 2"
   ]
  },
  {
   "cell_type": "markdown",
   "metadata": {},
   "source": [
    "---------------\n",
    "VALORES DISTINTOS"
   ]
  },
  {
   "cell_type": "code",
   "execution_count": 18,
   "metadata": {},
   "outputs": [
    {
     "data": {
      "text/plain": [
       "array(['São Paulo', 'Rio de Janeiro', 'Salvador', 'Recife'], dtype=object)"
      ]
     },
     "execution_count": 18,
     "metadata": {},
     "output_type": "execute_result"
    }
   ],
   "source": [
    "clientes_df[\"Cidade\"].unique()"
   ]
  },
  {
   "cell_type": "code",
   "execution_count": 19,
   "metadata": {},
   "outputs": [
    {
     "name": "stdout",
     "output_type": "stream",
     "text": [
      " * sqlite:///bancodados.db\n",
      "Done.\n"
     ]
    },
    {
     "data": {
      "text/html": [
       "<table>\n",
       "    <thead>\n",
       "        <tr>\n",
       "            <th>Cidade</th>\n",
       "        </tr>\n",
       "    </thead>\n",
       "    <tbody>\n",
       "        <tr>\n",
       "            <td>São Paulo</td>\n",
       "        </tr>\n",
       "        <tr>\n",
       "            <td>Rio de Janeiro</td>\n",
       "        </tr>\n",
       "        <tr>\n",
       "            <td>Salvador</td>\n",
       "        </tr>\n",
       "        <tr>\n",
       "            <td>Recife</td>\n",
       "        </tr>\n",
       "    </tbody>\n",
       "</table>"
      ],
      "text/plain": [
       "[('São Paulo',), ('Rio de Janeiro',), ('Salvador',), ('Recife',)]"
      ]
     },
     "execution_count": 19,
     "metadata": {},
     "output_type": "execute_result"
    }
   ],
   "source": [
    "%%sql \n",
    "\n",
    "SELECT DISTINCT Cidade FROM tbClientes "
   ]
  },
  {
   "cell_type": "markdown",
   "metadata": {},
   "source": [
    "---------------\n",
    "CONTAGEM DE VALORES DISTINTOS"
   ]
  },
  {
   "cell_type": "code",
   "execution_count": 20,
   "metadata": {},
   "outputs": [
    {
     "data": {
      "text/plain": [
       "4"
      ]
     },
     "execution_count": 20,
     "metadata": {},
     "output_type": "execute_result"
    }
   ],
   "source": [
    "clientes_df[\"Cidade\"].nunique()"
   ]
  },
  {
   "cell_type": "code",
   "execution_count": 23,
   "metadata": {},
   "outputs": [
    {
     "name": "stdout",
     "output_type": "stream",
     "text": [
      " * sqlite:///bancodados.db\n",
      "Done.\n"
     ]
    },
    {
     "data": {
      "text/html": [
       "<table>\n",
       "    <thead>\n",
       "        <tr>\n",
       "            <th>quantidade</th>\n",
       "        </tr>\n",
       "    </thead>\n",
       "    <tbody>\n",
       "        <tr>\n",
       "            <td>4</td>\n",
       "        </tr>\n",
       "    </tbody>\n",
       "</table>"
      ],
      "text/plain": [
       "[(4,)]"
      ]
     },
     "execution_count": 23,
     "metadata": {},
     "output_type": "execute_result"
    }
   ],
   "source": [
    "%%sql \n",
    "\n",
    "SELECT COUNT(DISTINCT Cidade) as quantidade FROM tbClientes "
   ]
  },
  {
   "cell_type": "markdown",
   "metadata": {},
   "source": [
    "----------------\n",
    "AGRUPAMENTO"
   ]
  },
  {
   "cell_type": "code",
   "execution_count": 28,
   "metadata": {},
   "outputs": [
    {
     "data": {
      "text/plain": [
       "Cidade\n",
       "Recife            1\n",
       "Rio de Janeiro    1\n",
       "Salvador          1\n",
       "São Paulo         3\n",
       "dtype: int64"
      ]
     },
     "execution_count": 28,
     "metadata": {},
     "output_type": "execute_result"
    }
   ],
   "source": [
    "clientes_df.groupby('Cidade').size()"
   ]
  },
  {
   "cell_type": "code",
   "execution_count": 29,
   "metadata": {},
   "outputs": [
    {
     "name": "stdout",
     "output_type": "stream",
     "text": [
      " * sqlite:///bancodados.db\n",
      "Done.\n"
     ]
    },
    {
     "data": {
      "text/html": [
       "<table>\n",
       "    <thead>\n",
       "        <tr>\n",
       "            <th>Cidade</th>\n",
       "            <th>quantidade</th>\n",
       "        </tr>\n",
       "    </thead>\n",
       "    <tbody>\n",
       "        <tr>\n",
       "            <td>Recife</td>\n",
       "            <td>1</td>\n",
       "        </tr>\n",
       "        <tr>\n",
       "            <td>Rio de Janeiro</td>\n",
       "            <td>1</td>\n",
       "        </tr>\n",
       "        <tr>\n",
       "            <td>Salvador</td>\n",
       "            <td>1</td>\n",
       "        </tr>\n",
       "        <tr>\n",
       "            <td>São Paulo</td>\n",
       "            <td>3</td>\n",
       "        </tr>\n",
       "    </tbody>\n",
       "</table>"
      ],
      "text/plain": [
       "[('Recife', 1), ('Rio de Janeiro', 1), ('Salvador', 1), ('São Paulo', 3)]"
      ]
     },
     "execution_count": 29,
     "metadata": {},
     "output_type": "execute_result"
    }
   ],
   "source": [
    "%%sql \n",
    "\n",
    "SELECT Cidade, COUNT('ID_Clientes') as quantidade FROM tbClientes GROUP BY Cidade"
   ]
  },
  {
   "cell_type": "markdown",
   "metadata": {},
   "source": [
    "---------------\n",
    "ORDENAÇÃO POR UMA COLUNA"
   ]
  },
  {
   "cell_type": "code",
   "execution_count": 30,
   "metadata": {},
   "outputs": [
    {
     "data": {
      "text/html": [
       "<div>\n",
       "<style scoped>\n",
       "    .dataframe tbody tr th:only-of-type {\n",
       "        vertical-align: middle;\n",
       "    }\n",
       "\n",
       "    .dataframe tbody tr th {\n",
       "        vertical-align: top;\n",
       "    }\n",
       "\n",
       "    .dataframe thead th {\n",
       "        text-align: right;\n",
       "    }\n",
       "</style>\n",
       "<table border=\"1\" class=\"dataframe\">\n",
       "  <thead>\n",
       "    <tr style=\"text-align: right;\">\n",
       "      <th></th>\n",
       "      <th>ID_Cliente</th>\n",
       "      <th>Nome</th>\n",
       "      <th>Idade</th>\n",
       "      <th>Cidade</th>\n",
       "    </tr>\n",
       "  </thead>\n",
       "  <tbody>\n",
       "    <tr>\n",
       "      <th>5</th>\n",
       "      <td>6</td>\n",
       "      <td>Beatriz</td>\n",
       "      <td>16</td>\n",
       "      <td>São Paulo</td>\n",
       "    </tr>\n",
       "    <tr>\n",
       "      <th>1</th>\n",
       "      <td>2</td>\n",
       "      <td>Graziela</td>\n",
       "      <td>28</td>\n",
       "      <td>Rio de Janeiro</td>\n",
       "    </tr>\n",
       "    <tr>\n",
       "      <th>4</th>\n",
       "      <td>5</td>\n",
       "      <td>Leonardo</td>\n",
       "      <td>40</td>\n",
       "      <td>Recife</td>\n",
       "    </tr>\n",
       "    <tr>\n",
       "      <th>0</th>\n",
       "      <td>1</td>\n",
       "      <td>Luiz</td>\n",
       "      <td>30</td>\n",
       "      <td>São Paulo</td>\n",
       "    </tr>\n",
       "    <tr>\n",
       "      <th>3</th>\n",
       "      <td>4</td>\n",
       "      <td>Mariana</td>\n",
       "      <td>28</td>\n",
       "      <td>São Paulo</td>\n",
       "    </tr>\n",
       "    <tr>\n",
       "      <th>2</th>\n",
       "      <td>3</td>\n",
       "      <td>Ricardo</td>\n",
       "      <td>35</td>\n",
       "      <td>Salvador</td>\n",
       "    </tr>\n",
       "  </tbody>\n",
       "</table>\n",
       "</div>"
      ],
      "text/plain": [
       "   ID_Cliente      Nome  Idade          Cidade\n",
       "5           6   Beatriz     16       São Paulo\n",
       "1           2  Graziela     28  Rio de Janeiro\n",
       "4           5  Leonardo     40          Recife\n",
       "0           1      Luiz     30       São Paulo\n",
       "3           4   Mariana     28       São Paulo\n",
       "2           3   Ricardo     35        Salvador"
      ]
     },
     "execution_count": 30,
     "metadata": {},
     "output_type": "execute_result"
    }
   ],
   "source": [
    "clientes_df.sort_values(by=[\"Nome\"])"
   ]
  },
  {
   "cell_type": "code",
   "execution_count": 32,
   "metadata": {},
   "outputs": [
    {
     "name": "stdout",
     "output_type": "stream",
     "text": [
      " * sqlite:///bancodados.db\n",
      "Done.\n"
     ]
    },
    {
     "data": {
      "text/html": [
       "<table>\n",
       "    <thead>\n",
       "        <tr>\n",
       "            <th>Nome</th>\n",
       "            <th>Idade</th>\n",
       "        </tr>\n",
       "    </thead>\n",
       "    <tbody>\n",
       "        <tr>\n",
       "            <td>Beatriz</td>\n",
       "            <td>16</td>\n",
       "        </tr>\n",
       "        <tr>\n",
       "            <td>Graziela</td>\n",
       "            <td>28</td>\n",
       "        </tr>\n",
       "        <tr>\n",
       "            <td>Leonardo</td>\n",
       "            <td>40</td>\n",
       "        </tr>\n",
       "        <tr>\n",
       "            <td>Luiz</td>\n",
       "            <td>30</td>\n",
       "        </tr>\n",
       "        <tr>\n",
       "            <td>Mariana</td>\n",
       "            <td>28</td>\n",
       "        </tr>\n",
       "        <tr>\n",
       "            <td>Ricardo</td>\n",
       "            <td>35</td>\n",
       "        </tr>\n",
       "    </tbody>\n",
       "</table>"
      ],
      "text/plain": [
       "[('Beatriz', 16),\n",
       " ('Graziela', 28),\n",
       " ('Leonardo', 40),\n",
       " ('Luiz', 30),\n",
       " ('Mariana', 28),\n",
       " ('Ricardo', 35)]"
      ]
     },
     "execution_count": 32,
     "metadata": {},
     "output_type": "execute_result"
    }
   ],
   "source": [
    "%%sql \n",
    "\n",
    "SELECT Nome, Idade FROM tbClientes ORDER BY Nome"
   ]
  },
  {
   "cell_type": "markdown",
   "metadata": {},
   "source": [
    "-----------\n",
    "ORDERNAÇÃO POR VÁRIAS COLUNAS"
   ]
  },
  {
   "cell_type": "code",
   "execution_count": 33,
   "metadata": {},
   "outputs": [
    {
     "data": {
      "text/html": [
       "<div>\n",
       "<style scoped>\n",
       "    .dataframe tbody tr th:only-of-type {\n",
       "        vertical-align: middle;\n",
       "    }\n",
       "\n",
       "    .dataframe tbody tr th {\n",
       "        vertical-align: top;\n",
       "    }\n",
       "\n",
       "    .dataframe thead th {\n",
       "        text-align: right;\n",
       "    }\n",
       "</style>\n",
       "<table border=\"1\" class=\"dataframe\">\n",
       "  <thead>\n",
       "    <tr style=\"text-align: right;\">\n",
       "      <th></th>\n",
       "      <th>ID_Cliente</th>\n",
       "      <th>Nome</th>\n",
       "      <th>Idade</th>\n",
       "      <th>Cidade</th>\n",
       "    </tr>\n",
       "  </thead>\n",
       "  <tbody>\n",
       "    <tr>\n",
       "      <th>5</th>\n",
       "      <td>6</td>\n",
       "      <td>Beatriz</td>\n",
       "      <td>16</td>\n",
       "      <td>São Paulo</td>\n",
       "    </tr>\n",
       "    <tr>\n",
       "      <th>1</th>\n",
       "      <td>2</td>\n",
       "      <td>Graziela</td>\n",
       "      <td>28</td>\n",
       "      <td>Rio de Janeiro</td>\n",
       "    </tr>\n",
       "    <tr>\n",
       "      <th>4</th>\n",
       "      <td>5</td>\n",
       "      <td>Leonardo</td>\n",
       "      <td>40</td>\n",
       "      <td>Recife</td>\n",
       "    </tr>\n",
       "    <tr>\n",
       "      <th>0</th>\n",
       "      <td>1</td>\n",
       "      <td>Luiz</td>\n",
       "      <td>30</td>\n",
       "      <td>São Paulo</td>\n",
       "    </tr>\n",
       "    <tr>\n",
       "      <th>3</th>\n",
       "      <td>4</td>\n",
       "      <td>Mariana</td>\n",
       "      <td>28</td>\n",
       "      <td>São Paulo</td>\n",
       "    </tr>\n",
       "    <tr>\n",
       "      <th>2</th>\n",
       "      <td>3</td>\n",
       "      <td>Ricardo</td>\n",
       "      <td>35</td>\n",
       "      <td>Salvador</td>\n",
       "    </tr>\n",
       "  </tbody>\n",
       "</table>\n",
       "</div>"
      ],
      "text/plain": [
       "   ID_Cliente      Nome  Idade          Cidade\n",
       "5           6   Beatriz     16       São Paulo\n",
       "1           2  Graziela     28  Rio de Janeiro\n",
       "4           5  Leonardo     40          Recife\n",
       "0           1      Luiz     30       São Paulo\n",
       "3           4   Mariana     28       São Paulo\n",
       "2           3   Ricardo     35        Salvador"
      ]
     },
     "execution_count": 33,
     "metadata": {},
     "output_type": "execute_result"
    }
   ],
   "source": [
    "clientes_df.sort_values(by=[\"Nome\",\"Cidade\"])"
   ]
  },
  {
   "cell_type": "code",
   "execution_count": 34,
   "metadata": {},
   "outputs": [
    {
     "name": "stdout",
     "output_type": "stream",
     "text": [
      " * sqlite:///bancodados.db\n",
      "Done.\n"
     ]
    },
    {
     "data": {
      "text/html": [
       "<table>\n",
       "    <thead>\n",
       "        <tr>\n",
       "            <th>Nome</th>\n",
       "            <th>Idade</th>\n",
       "            <th>Cidade</th>\n",
       "        </tr>\n",
       "    </thead>\n",
       "    <tbody>\n",
       "        <tr>\n",
       "            <td>Beatriz</td>\n",
       "            <td>16</td>\n",
       "            <td>São Paulo</td>\n",
       "        </tr>\n",
       "        <tr>\n",
       "            <td>Graziela</td>\n",
       "            <td>28</td>\n",
       "            <td>Rio de Janeiro</td>\n",
       "        </tr>\n",
       "        <tr>\n",
       "            <td>Leonardo</td>\n",
       "            <td>40</td>\n",
       "            <td>Recife</td>\n",
       "        </tr>\n",
       "        <tr>\n",
       "            <td>Luiz</td>\n",
       "            <td>30</td>\n",
       "            <td>São Paulo</td>\n",
       "        </tr>\n",
       "        <tr>\n",
       "            <td>Mariana</td>\n",
       "            <td>28</td>\n",
       "            <td>São Paulo</td>\n",
       "        </tr>\n",
       "        <tr>\n",
       "            <td>Ricardo</td>\n",
       "            <td>35</td>\n",
       "            <td>Salvador</td>\n",
       "        </tr>\n",
       "    </tbody>\n",
       "</table>"
      ],
      "text/plain": [
       "[('Beatriz', 16, 'São Paulo'),\n",
       " ('Graziela', 28, 'Rio de Janeiro'),\n",
       " ('Leonardo', 40, 'Recife'),\n",
       " ('Luiz', 30, 'São Paulo'),\n",
       " ('Mariana', 28, 'São Paulo'),\n",
       " ('Ricardo', 35, 'Salvador')]"
      ]
     },
     "execution_count": 34,
     "metadata": {},
     "output_type": "execute_result"
    }
   ],
   "source": [
    "%%sql \n",
    "\n",
    "SELECT Nome, Idade, Cidade FROM tbClientes ORDER BY Nome, Idade"
   ]
  },
  {
   "cell_type": "markdown",
   "metadata": {},
   "source": [
    "-----\n",
    "CONTAGEM DE VALORES ÚNICOS"
   ]
  },
  {
   "cell_type": "code",
   "execution_count": 35,
   "metadata": {},
   "outputs": [
    {
     "data": {
      "text/plain": [
       "Cidade\n",
       "São Paulo         3\n",
       "Rio de Janeiro    1\n",
       "Salvador          1\n",
       "Recife            1\n",
       "Name: count, dtype: int64"
      ]
     },
     "execution_count": 35,
     "metadata": {},
     "output_type": "execute_result"
    }
   ],
   "source": [
    "clientes_df[\"Cidade\"].value_counts()"
   ]
  },
  {
   "cell_type": "code",
   "execution_count": 37,
   "metadata": {},
   "outputs": [
    {
     "name": "stdout",
     "output_type": "stream",
     "text": [
      " * sqlite:///bancodados.db\n",
      "Done.\n"
     ]
    },
    {
     "data": {
      "text/html": [
       "<table>\n",
       "    <thead>\n",
       "        <tr>\n",
       "            <th>Cidade</th>\n",
       "            <th>quantidade</th>\n",
       "        </tr>\n",
       "    </thead>\n",
       "    <tbody>\n",
       "        <tr>\n",
       "            <td>São Paulo</td>\n",
       "            <td>3</td>\n",
       "        </tr>\n",
       "        <tr>\n",
       "            <td>Salvador</td>\n",
       "            <td>1</td>\n",
       "        </tr>\n",
       "        <tr>\n",
       "            <td>Rio de Janeiro</td>\n",
       "            <td>1</td>\n",
       "        </tr>\n",
       "        <tr>\n",
       "            <td>Recife</td>\n",
       "            <td>1</td>\n",
       "        </tr>\n",
       "    </tbody>\n",
       "</table>"
      ],
      "text/plain": [
       "[('São Paulo', 3), ('Salvador', 1), ('Rio de Janeiro', 1), ('Recife', 1)]"
      ]
     },
     "execution_count": 37,
     "metadata": {},
     "output_type": "execute_result"
    }
   ],
   "source": [
    "%%sql\n",
    "\n",
    "SELECT Cidade, COUNT('ID_Cliente') as quantidade FROM tbClientes GROUP BY Cidade ORDER BY quantidade DESC"
   ]
  },
  {
   "cell_type": "markdown",
   "metadata": {},
   "source": [
    "-------------\n",
    "JOINS"
   ]
  },
  {
   "cell_type": "code",
   "execution_count": 38,
   "metadata": {},
   "outputs": [
    {
     "name": "stdout",
     "output_type": "stream",
     "text": [
      "\n",
      "DataFrame de Pedidos:\n"
     ]
    },
    {
     "data": {
      "text/html": [
       "<div>\n",
       "<style scoped>\n",
       "    .dataframe tbody tr th:only-of-type {\n",
       "        vertical-align: middle;\n",
       "    }\n",
       "\n",
       "    .dataframe tbody tr th {\n",
       "        vertical-align: top;\n",
       "    }\n",
       "\n",
       "    .dataframe thead th {\n",
       "        text-align: right;\n",
       "    }\n",
       "</style>\n",
       "<table border=\"1\" class=\"dataframe\">\n",
       "  <thead>\n",
       "    <tr style=\"text-align: right;\">\n",
       "      <th></th>\n",
       "      <th>ID_Pedido</th>\n",
       "      <th>ID_Cliente</th>\n",
       "      <th>Produto</th>\n",
       "      <th>Quantidade</th>\n",
       "      <th>Preco</th>\n",
       "    </tr>\n",
       "  </thead>\n",
       "  <tbody>\n",
       "    <tr>\n",
       "      <th>0</th>\n",
       "      <td>101</td>\n",
       "      <td>1</td>\n",
       "      <td>Camisa</td>\n",
       "      <td>2</td>\n",
       "      <td>30.00</td>\n",
       "    </tr>\n",
       "    <tr>\n",
       "      <th>1</th>\n",
       "      <td>102</td>\n",
       "      <td>3</td>\n",
       "      <td>Calça</td>\n",
       "      <td>1</td>\n",
       "      <td>35.00</td>\n",
       "    </tr>\n",
       "    <tr>\n",
       "      <th>2</th>\n",
       "      <td>103</td>\n",
       "      <td>2</td>\n",
       "      <td>Vestido</td>\n",
       "      <td>3</td>\n",
       "      <td>42.00</td>\n",
       "    </tr>\n",
       "    <tr>\n",
       "      <th>3</th>\n",
       "      <td>104</td>\n",
       "      <td>5</td>\n",
       "      <td>Sapato</td>\n",
       "      <td>2</td>\n",
       "      <td>15.50</td>\n",
       "    </tr>\n",
       "    <tr>\n",
       "      <th>4</th>\n",
       "      <td>105</td>\n",
       "      <td>4</td>\n",
       "      <td>Blusa</td>\n",
       "      <td>1</td>\n",
       "      <td>9.90</td>\n",
       "    </tr>\n",
       "    <tr>\n",
       "      <th>5</th>\n",
       "      <td>106</td>\n",
       "      <td>1</td>\n",
       "      <td>Camisa</td>\n",
       "      <td>2</td>\n",
       "      <td>80.00</td>\n",
       "    </tr>\n",
       "    <tr>\n",
       "      <th>6</th>\n",
       "      <td>107</td>\n",
       "      <td>2</td>\n",
       "      <td>Calça</td>\n",
       "      <td>1</td>\n",
       "      <td>12.99</td>\n",
       "    </tr>\n",
       "    <tr>\n",
       "      <th>7</th>\n",
       "      <td>108</td>\n",
       "      <td>3</td>\n",
       "      <td>Vestido</td>\n",
       "      <td>3</td>\n",
       "      <td>30.00</td>\n",
       "    </tr>\n",
       "    <tr>\n",
       "      <th>8</th>\n",
       "      <td>109</td>\n",
       "      <td>6</td>\n",
       "      <td>Sapato</td>\n",
       "      <td>2</td>\n",
       "      <td>45.25</td>\n",
       "    </tr>\n",
       "    <tr>\n",
       "      <th>9</th>\n",
       "      <td>110</td>\n",
       "      <td>1</td>\n",
       "      <td>Blusa</td>\n",
       "      <td>1</td>\n",
       "      <td>5.00</td>\n",
       "    </tr>\n",
       "  </tbody>\n",
       "</table>\n",
       "</div>"
      ],
      "text/plain": [
       "   ID_Pedido  ID_Cliente  Produto  Quantidade  Preco\n",
       "0        101           1   Camisa           2  30.00\n",
       "1        102           3    Calça           1  35.00\n",
       "2        103           2  Vestido           3  42.00\n",
       "3        104           5   Sapato           2  15.50\n",
       "4        105           4    Blusa           1   9.90\n",
       "5        106           1   Camisa           2  80.00\n",
       "6        107           2    Calça           1  12.99\n",
       "7        108           3  Vestido           3  30.00\n",
       "8        109           6   Sapato           2  45.25\n",
       "9        110           1    Blusa           1   5.00"
      ]
     },
     "execution_count": 38,
     "metadata": {},
     "output_type": "execute_result"
    }
   ],
   "source": [
    "# Exibindo o DataFrame de Pedidos\n",
    "print(\"\\nDataFrame de Pedidos:\")\n",
    "pedidos_df"
   ]
  },
  {
   "cell_type": "code",
   "execution_count": 39,
   "metadata": {},
   "outputs": [
    {
     "name": "stdout",
     "output_type": "stream",
     "text": [
      " * sqlite:///bancodados.db\n",
      "Done.\n"
     ]
    },
    {
     "data": {
      "text/html": [
       "<table>\n",
       "    <thead>\n",
       "        <tr>\n",
       "            <th>index</th>\n",
       "            <th>ID_Pedido</th>\n",
       "            <th>ID_Cliente</th>\n",
       "            <th>Produto</th>\n",
       "            <th>Quantidade</th>\n",
       "            <th>Preco</th>\n",
       "        </tr>\n",
       "    </thead>\n",
       "    <tbody>\n",
       "        <tr>\n",
       "            <td>0</td>\n",
       "            <td>101</td>\n",
       "            <td>1</td>\n",
       "            <td>Camisa</td>\n",
       "            <td>2</td>\n",
       "            <td>30.0</td>\n",
       "        </tr>\n",
       "        <tr>\n",
       "            <td>1</td>\n",
       "            <td>102</td>\n",
       "            <td>3</td>\n",
       "            <td>Calça</td>\n",
       "            <td>1</td>\n",
       "            <td>35.0</td>\n",
       "        </tr>\n",
       "        <tr>\n",
       "            <td>2</td>\n",
       "            <td>103</td>\n",
       "            <td>2</td>\n",
       "            <td>Vestido</td>\n",
       "            <td>3</td>\n",
       "            <td>42.0</td>\n",
       "        </tr>\n",
       "        <tr>\n",
       "            <td>3</td>\n",
       "            <td>104</td>\n",
       "            <td>5</td>\n",
       "            <td>Sapato</td>\n",
       "            <td>2</td>\n",
       "            <td>15.5</td>\n",
       "        </tr>\n",
       "        <tr>\n",
       "            <td>4</td>\n",
       "            <td>105</td>\n",
       "            <td>4</td>\n",
       "            <td>Blusa</td>\n",
       "            <td>1</td>\n",
       "            <td>9.9</td>\n",
       "        </tr>\n",
       "        <tr>\n",
       "            <td>5</td>\n",
       "            <td>106</td>\n",
       "            <td>1</td>\n",
       "            <td>Camisa</td>\n",
       "            <td>2</td>\n",
       "            <td>80.0</td>\n",
       "        </tr>\n",
       "        <tr>\n",
       "            <td>6</td>\n",
       "            <td>107</td>\n",
       "            <td>2</td>\n",
       "            <td>Calça</td>\n",
       "            <td>1</td>\n",
       "            <td>12.99</td>\n",
       "        </tr>\n",
       "        <tr>\n",
       "            <td>7</td>\n",
       "            <td>108</td>\n",
       "            <td>3</td>\n",
       "            <td>Vestido</td>\n",
       "            <td>3</td>\n",
       "            <td>30.0</td>\n",
       "        </tr>\n",
       "        <tr>\n",
       "            <td>8</td>\n",
       "            <td>109</td>\n",
       "            <td>6</td>\n",
       "            <td>Sapato</td>\n",
       "            <td>2</td>\n",
       "            <td>45.25</td>\n",
       "        </tr>\n",
       "        <tr>\n",
       "            <td>9</td>\n",
       "            <td>110</td>\n",
       "            <td>1</td>\n",
       "            <td>Blusa</td>\n",
       "            <td>1</td>\n",
       "            <td>5.0</td>\n",
       "        </tr>\n",
       "    </tbody>\n",
       "</table>"
      ],
      "text/plain": [
       "[(0, 101, 1, 'Camisa', 2, 30.0),\n",
       " (1, 102, 3, 'Calça', 1, 35.0),\n",
       " (2, 103, 2, 'Vestido', 3, 42.0),\n",
       " (3, 104, 5, 'Sapato', 2, 15.5),\n",
       " (4, 105, 4, 'Blusa', 1, 9.9),\n",
       " (5, 106, 1, 'Camisa', 2, 80.0),\n",
       " (6, 107, 2, 'Calça', 1, 12.99),\n",
       " (7, 108, 3, 'Vestido', 3, 30.0),\n",
       " (8, 109, 6, 'Sapato', 2, 45.25),\n",
       " (9, 110, 1, 'Blusa', 1, 5.0)]"
      ]
     },
     "execution_count": 39,
     "metadata": {},
     "output_type": "execute_result"
    }
   ],
   "source": [
    "%%sql \n",
    "\n",
    "SELECT * FROM tbPedidos "
   ]
  },
  {
   "cell_type": "markdown",
   "metadata": {},
   "source": [
    "-------------------\n",
    "INNER JOIN"
   ]
  },
  {
   "cell_type": "code",
   "execution_count": 40,
   "metadata": {},
   "outputs": [
    {
     "data": {
      "text/html": [
       "<div>\n",
       "<style scoped>\n",
       "    .dataframe tbody tr th:only-of-type {\n",
       "        vertical-align: middle;\n",
       "    }\n",
       "\n",
       "    .dataframe tbody tr th {\n",
       "        vertical-align: top;\n",
       "    }\n",
       "\n",
       "    .dataframe thead th {\n",
       "        text-align: right;\n",
       "    }\n",
       "</style>\n",
       "<table border=\"1\" class=\"dataframe\">\n",
       "  <thead>\n",
       "    <tr style=\"text-align: right;\">\n",
       "      <th></th>\n",
       "      <th>ID_Cliente</th>\n",
       "      <th>Nome</th>\n",
       "      <th>Idade</th>\n",
       "      <th>Cidade</th>\n",
       "      <th>ID_Pedido</th>\n",
       "      <th>Produto</th>\n",
       "      <th>Quantidade</th>\n",
       "      <th>Preco</th>\n",
       "    </tr>\n",
       "  </thead>\n",
       "  <tbody>\n",
       "    <tr>\n",
       "      <th>0</th>\n",
       "      <td>1</td>\n",
       "      <td>Luiz</td>\n",
       "      <td>30</td>\n",
       "      <td>São Paulo</td>\n",
       "      <td>101</td>\n",
       "      <td>Camisa</td>\n",
       "      <td>2</td>\n",
       "      <td>30.00</td>\n",
       "    </tr>\n",
       "    <tr>\n",
       "      <th>1</th>\n",
       "      <td>1</td>\n",
       "      <td>Luiz</td>\n",
       "      <td>30</td>\n",
       "      <td>São Paulo</td>\n",
       "      <td>106</td>\n",
       "      <td>Camisa</td>\n",
       "      <td>2</td>\n",
       "      <td>80.00</td>\n",
       "    </tr>\n",
       "    <tr>\n",
       "      <th>2</th>\n",
       "      <td>1</td>\n",
       "      <td>Luiz</td>\n",
       "      <td>30</td>\n",
       "      <td>São Paulo</td>\n",
       "      <td>110</td>\n",
       "      <td>Blusa</td>\n",
       "      <td>1</td>\n",
       "      <td>5.00</td>\n",
       "    </tr>\n",
       "    <tr>\n",
       "      <th>3</th>\n",
       "      <td>2</td>\n",
       "      <td>Graziela</td>\n",
       "      <td>28</td>\n",
       "      <td>Rio de Janeiro</td>\n",
       "      <td>103</td>\n",
       "      <td>Vestido</td>\n",
       "      <td>3</td>\n",
       "      <td>42.00</td>\n",
       "    </tr>\n",
       "    <tr>\n",
       "      <th>4</th>\n",
       "      <td>2</td>\n",
       "      <td>Graziela</td>\n",
       "      <td>28</td>\n",
       "      <td>Rio de Janeiro</td>\n",
       "      <td>107</td>\n",
       "      <td>Calça</td>\n",
       "      <td>1</td>\n",
       "      <td>12.99</td>\n",
       "    </tr>\n",
       "    <tr>\n",
       "      <th>5</th>\n",
       "      <td>3</td>\n",
       "      <td>Ricardo</td>\n",
       "      <td>35</td>\n",
       "      <td>Salvador</td>\n",
       "      <td>102</td>\n",
       "      <td>Calça</td>\n",
       "      <td>1</td>\n",
       "      <td>35.00</td>\n",
       "    </tr>\n",
       "    <tr>\n",
       "      <th>6</th>\n",
       "      <td>3</td>\n",
       "      <td>Ricardo</td>\n",
       "      <td>35</td>\n",
       "      <td>Salvador</td>\n",
       "      <td>108</td>\n",
       "      <td>Vestido</td>\n",
       "      <td>3</td>\n",
       "      <td>30.00</td>\n",
       "    </tr>\n",
       "    <tr>\n",
       "      <th>7</th>\n",
       "      <td>4</td>\n",
       "      <td>Mariana</td>\n",
       "      <td>28</td>\n",
       "      <td>São Paulo</td>\n",
       "      <td>105</td>\n",
       "      <td>Blusa</td>\n",
       "      <td>1</td>\n",
       "      <td>9.90</td>\n",
       "    </tr>\n",
       "    <tr>\n",
       "      <th>8</th>\n",
       "      <td>5</td>\n",
       "      <td>Leonardo</td>\n",
       "      <td>40</td>\n",
       "      <td>Recife</td>\n",
       "      <td>104</td>\n",
       "      <td>Sapato</td>\n",
       "      <td>2</td>\n",
       "      <td>15.50</td>\n",
       "    </tr>\n",
       "    <tr>\n",
       "      <th>9</th>\n",
       "      <td>6</td>\n",
       "      <td>Beatriz</td>\n",
       "      <td>16</td>\n",
       "      <td>São Paulo</td>\n",
       "      <td>109</td>\n",
       "      <td>Sapato</td>\n",
       "      <td>2</td>\n",
       "      <td>45.25</td>\n",
       "    </tr>\n",
       "  </tbody>\n",
       "</table>\n",
       "</div>"
      ],
      "text/plain": [
       "   ID_Cliente      Nome  Idade          Cidade  ID_Pedido  Produto  \\\n",
       "0           1      Luiz     30       São Paulo        101   Camisa   \n",
       "1           1      Luiz     30       São Paulo        106   Camisa   \n",
       "2           1      Luiz     30       São Paulo        110    Blusa   \n",
       "3           2  Graziela     28  Rio de Janeiro        103  Vestido   \n",
       "4           2  Graziela     28  Rio de Janeiro        107    Calça   \n",
       "5           3   Ricardo     35        Salvador        102    Calça   \n",
       "6           3   Ricardo     35        Salvador        108  Vestido   \n",
       "7           4   Mariana     28       São Paulo        105    Blusa   \n",
       "8           5  Leonardo     40          Recife        104   Sapato   \n",
       "9           6   Beatriz     16       São Paulo        109   Sapato   \n",
       "\n",
       "   Quantidade  Preco  \n",
       "0           2  30.00  \n",
       "1           2  80.00  \n",
       "2           1   5.00  \n",
       "3           3  42.00  \n",
       "4           1  12.99  \n",
       "5           1  35.00  \n",
       "6           3  30.00  \n",
       "7           1   9.90  \n",
       "8           2  15.50  \n",
       "9           2  45.25  "
      ]
     },
     "execution_count": 40,
     "metadata": {},
     "output_type": "execute_result"
    }
   ],
   "source": [
    "df_merge = pd.merge(clientes_df, pedidos_df, on=\"ID_Cliente\", how=\"inner\")\n",
    "df_merge"
   ]
  },
  {
   "cell_type": "code",
   "execution_count": 41,
   "metadata": {},
   "outputs": [
    {
     "name": "stdout",
     "output_type": "stream",
     "text": [
      " * sqlite:///bancodados.db\n",
      "Done.\n"
     ]
    },
    {
     "data": {
      "text/html": [
       "<table>\n",
       "    <thead>\n",
       "        <tr>\n",
       "            <th>ID_Cliente</th>\n",
       "            <th>Nome</th>\n",
       "            <th>Idade</th>\n",
       "            <th>Cidade</th>\n",
       "            <th>ID_Pedido</th>\n",
       "            <th>Produto</th>\n",
       "            <th>Quantidade</th>\n",
       "            <th>Preco</th>\n",
       "        </tr>\n",
       "    </thead>\n",
       "    <tbody>\n",
       "        <tr>\n",
       "            <td>1</td>\n",
       "            <td>Luiz</td>\n",
       "            <td>30</td>\n",
       "            <td>São Paulo</td>\n",
       "            <td>101</td>\n",
       "            <td>Camisa</td>\n",
       "            <td>2</td>\n",
       "            <td>30.0</td>\n",
       "        </tr>\n",
       "        <tr>\n",
       "            <td>1</td>\n",
       "            <td>Luiz</td>\n",
       "            <td>30</td>\n",
       "            <td>São Paulo</td>\n",
       "            <td>106</td>\n",
       "            <td>Camisa</td>\n",
       "            <td>2</td>\n",
       "            <td>80.0</td>\n",
       "        </tr>\n",
       "        <tr>\n",
       "            <td>1</td>\n",
       "            <td>Luiz</td>\n",
       "            <td>30</td>\n",
       "            <td>São Paulo</td>\n",
       "            <td>110</td>\n",
       "            <td>Blusa</td>\n",
       "            <td>1</td>\n",
       "            <td>5.0</td>\n",
       "        </tr>\n",
       "        <tr>\n",
       "            <td>2</td>\n",
       "            <td>Graziela</td>\n",
       "            <td>28</td>\n",
       "            <td>Rio de Janeiro</td>\n",
       "            <td>103</td>\n",
       "            <td>Vestido</td>\n",
       "            <td>3</td>\n",
       "            <td>42.0</td>\n",
       "        </tr>\n",
       "        <tr>\n",
       "            <td>2</td>\n",
       "            <td>Graziela</td>\n",
       "            <td>28</td>\n",
       "            <td>Rio de Janeiro</td>\n",
       "            <td>107</td>\n",
       "            <td>Calça</td>\n",
       "            <td>1</td>\n",
       "            <td>12.99</td>\n",
       "        </tr>\n",
       "        <tr>\n",
       "            <td>3</td>\n",
       "            <td>Ricardo</td>\n",
       "            <td>35</td>\n",
       "            <td>Salvador</td>\n",
       "            <td>102</td>\n",
       "            <td>Calça</td>\n",
       "            <td>1</td>\n",
       "            <td>35.0</td>\n",
       "        </tr>\n",
       "        <tr>\n",
       "            <td>3</td>\n",
       "            <td>Ricardo</td>\n",
       "            <td>35</td>\n",
       "            <td>Salvador</td>\n",
       "            <td>108</td>\n",
       "            <td>Vestido</td>\n",
       "            <td>3</td>\n",
       "            <td>30.0</td>\n",
       "        </tr>\n",
       "        <tr>\n",
       "            <td>4</td>\n",
       "            <td>Mariana</td>\n",
       "            <td>28</td>\n",
       "            <td>São Paulo</td>\n",
       "            <td>105</td>\n",
       "            <td>Blusa</td>\n",
       "            <td>1</td>\n",
       "            <td>9.9</td>\n",
       "        </tr>\n",
       "        <tr>\n",
       "            <td>5</td>\n",
       "            <td>Leonardo</td>\n",
       "            <td>40</td>\n",
       "            <td>Recife</td>\n",
       "            <td>104</td>\n",
       "            <td>Sapato</td>\n",
       "            <td>2</td>\n",
       "            <td>15.5</td>\n",
       "        </tr>\n",
       "        <tr>\n",
       "            <td>6</td>\n",
       "            <td>Beatriz</td>\n",
       "            <td>16</td>\n",
       "            <td>São Paulo</td>\n",
       "            <td>109</td>\n",
       "            <td>Sapato</td>\n",
       "            <td>2</td>\n",
       "            <td>45.25</td>\n",
       "        </tr>\n",
       "    </tbody>\n",
       "</table>"
      ],
      "text/plain": [
       "[(1, 'Luiz', 30, 'São Paulo', 101, 'Camisa', 2, 30.0),\n",
       " (1, 'Luiz', 30, 'São Paulo', 106, 'Camisa', 2, 80.0),\n",
       " (1, 'Luiz', 30, 'São Paulo', 110, 'Blusa', 1, 5.0),\n",
       " (2, 'Graziela', 28, 'Rio de Janeiro', 103, 'Vestido', 3, 42.0),\n",
       " (2, 'Graziela', 28, 'Rio de Janeiro', 107, 'Calça', 1, 12.99),\n",
       " (3, 'Ricardo', 35, 'Salvador', 102, 'Calça', 1, 35.0),\n",
       " (3, 'Ricardo', 35, 'Salvador', 108, 'Vestido', 3, 30.0),\n",
       " (4, 'Mariana', 28, 'São Paulo', 105, 'Blusa', 1, 9.9),\n",
       " (5, 'Leonardo', 40, 'Recife', 104, 'Sapato', 2, 15.5),\n",
       " (6, 'Beatriz', 16, 'São Paulo', 109, 'Sapato', 2, 45.25)]"
      ]
     },
     "execution_count": 41,
     "metadata": {},
     "output_type": "execute_result"
    }
   ],
   "source": [
    "%%sql \n",
    "\n",
    "SELECT \n",
    "    tbClientes.ID_Cliente, \n",
    "    tbClientes.Nome, \n",
    "    tbClientes.Idade, \n",
    "    tbClientes.Cidade, \n",
    "    tbPedidos.ID_Pedido, \n",
    "    tbPedidos.Produto, \n",
    "    tbPedidos.Quantidade, \n",
    "    tbPedidos.Preco \n",
    "FROM tbClientes \n",
    "    INNER JOIN tbPedidos ON (tbClientes.ID_Cliente = tbPedidos.ID_Cliente)"
   ]
  },
  {
   "cell_type": "markdown",
   "metadata": {},
   "source": [
    "----------------\n",
    "LEFT JOIN"
   ]
  },
  {
   "cell_type": "code",
   "execution_count": 42,
   "metadata": {},
   "outputs": [
    {
     "data": {
      "text/html": [
       "<div>\n",
       "<style scoped>\n",
       "    .dataframe tbody tr th:only-of-type {\n",
       "        vertical-align: middle;\n",
       "    }\n",
       "\n",
       "    .dataframe tbody tr th {\n",
       "        vertical-align: top;\n",
       "    }\n",
       "\n",
       "    .dataframe thead th {\n",
       "        text-align: right;\n",
       "    }\n",
       "</style>\n",
       "<table border=\"1\" class=\"dataframe\">\n",
       "  <thead>\n",
       "    <tr style=\"text-align: right;\">\n",
       "      <th></th>\n",
       "      <th>ID_Cliente</th>\n",
       "      <th>Nome</th>\n",
       "      <th>Idade</th>\n",
       "      <th>Cidade</th>\n",
       "      <th>ID_Pedido</th>\n",
       "      <th>Produto</th>\n",
       "      <th>Quantidade</th>\n",
       "      <th>Preco</th>\n",
       "    </tr>\n",
       "  </thead>\n",
       "  <tbody>\n",
       "    <tr>\n",
       "      <th>0</th>\n",
       "      <td>1</td>\n",
       "      <td>Luiz</td>\n",
       "      <td>30</td>\n",
       "      <td>São Paulo</td>\n",
       "      <td>101</td>\n",
       "      <td>Camisa</td>\n",
       "      <td>2</td>\n",
       "      <td>30.00</td>\n",
       "    </tr>\n",
       "    <tr>\n",
       "      <th>1</th>\n",
       "      <td>1</td>\n",
       "      <td>Luiz</td>\n",
       "      <td>30</td>\n",
       "      <td>São Paulo</td>\n",
       "      <td>106</td>\n",
       "      <td>Camisa</td>\n",
       "      <td>2</td>\n",
       "      <td>80.00</td>\n",
       "    </tr>\n",
       "    <tr>\n",
       "      <th>2</th>\n",
       "      <td>1</td>\n",
       "      <td>Luiz</td>\n",
       "      <td>30</td>\n",
       "      <td>São Paulo</td>\n",
       "      <td>110</td>\n",
       "      <td>Blusa</td>\n",
       "      <td>1</td>\n",
       "      <td>5.00</td>\n",
       "    </tr>\n",
       "    <tr>\n",
       "      <th>3</th>\n",
       "      <td>2</td>\n",
       "      <td>Graziela</td>\n",
       "      <td>28</td>\n",
       "      <td>Rio de Janeiro</td>\n",
       "      <td>103</td>\n",
       "      <td>Vestido</td>\n",
       "      <td>3</td>\n",
       "      <td>42.00</td>\n",
       "    </tr>\n",
       "    <tr>\n",
       "      <th>4</th>\n",
       "      <td>2</td>\n",
       "      <td>Graziela</td>\n",
       "      <td>28</td>\n",
       "      <td>Rio de Janeiro</td>\n",
       "      <td>107</td>\n",
       "      <td>Calça</td>\n",
       "      <td>1</td>\n",
       "      <td>12.99</td>\n",
       "    </tr>\n",
       "    <tr>\n",
       "      <th>5</th>\n",
       "      <td>3</td>\n",
       "      <td>Ricardo</td>\n",
       "      <td>35</td>\n",
       "      <td>Salvador</td>\n",
       "      <td>102</td>\n",
       "      <td>Calça</td>\n",
       "      <td>1</td>\n",
       "      <td>35.00</td>\n",
       "    </tr>\n",
       "    <tr>\n",
       "      <th>6</th>\n",
       "      <td>3</td>\n",
       "      <td>Ricardo</td>\n",
       "      <td>35</td>\n",
       "      <td>Salvador</td>\n",
       "      <td>108</td>\n",
       "      <td>Vestido</td>\n",
       "      <td>3</td>\n",
       "      <td>30.00</td>\n",
       "    </tr>\n",
       "    <tr>\n",
       "      <th>7</th>\n",
       "      <td>4</td>\n",
       "      <td>Mariana</td>\n",
       "      <td>28</td>\n",
       "      <td>São Paulo</td>\n",
       "      <td>105</td>\n",
       "      <td>Blusa</td>\n",
       "      <td>1</td>\n",
       "      <td>9.90</td>\n",
       "    </tr>\n",
       "    <tr>\n",
       "      <th>8</th>\n",
       "      <td>5</td>\n",
       "      <td>Leonardo</td>\n",
       "      <td>40</td>\n",
       "      <td>Recife</td>\n",
       "      <td>104</td>\n",
       "      <td>Sapato</td>\n",
       "      <td>2</td>\n",
       "      <td>15.50</td>\n",
       "    </tr>\n",
       "    <tr>\n",
       "      <th>9</th>\n",
       "      <td>6</td>\n",
       "      <td>Beatriz</td>\n",
       "      <td>16</td>\n",
       "      <td>São Paulo</td>\n",
       "      <td>109</td>\n",
       "      <td>Sapato</td>\n",
       "      <td>2</td>\n",
       "      <td>45.25</td>\n",
       "    </tr>\n",
       "  </tbody>\n",
       "</table>\n",
       "</div>"
      ],
      "text/plain": [
       "   ID_Cliente      Nome  Idade          Cidade  ID_Pedido  Produto  \\\n",
       "0           1      Luiz     30       São Paulo        101   Camisa   \n",
       "1           1      Luiz     30       São Paulo        106   Camisa   \n",
       "2           1      Luiz     30       São Paulo        110    Blusa   \n",
       "3           2  Graziela     28  Rio de Janeiro        103  Vestido   \n",
       "4           2  Graziela     28  Rio de Janeiro        107    Calça   \n",
       "5           3   Ricardo     35        Salvador        102    Calça   \n",
       "6           3   Ricardo     35        Salvador        108  Vestido   \n",
       "7           4   Mariana     28       São Paulo        105    Blusa   \n",
       "8           5  Leonardo     40          Recife        104   Sapato   \n",
       "9           6   Beatriz     16       São Paulo        109   Sapato   \n",
       "\n",
       "   Quantidade  Preco  \n",
       "0           2  30.00  \n",
       "1           2  80.00  \n",
       "2           1   5.00  \n",
       "3           3  42.00  \n",
       "4           1  12.99  \n",
       "5           1  35.00  \n",
       "6           3  30.00  \n",
       "7           1   9.90  \n",
       "8           2  15.50  \n",
       "9           2  45.25  "
      ]
     },
     "execution_count": 42,
     "metadata": {},
     "output_type": "execute_result"
    }
   ],
   "source": [
    "df_merge = pd.merge(clientes_df, pedidos_df, on=\"ID_Cliente\", how=\"left\")\n",
    "df_merge"
   ]
  },
  {
   "cell_type": "code",
   "execution_count": 43,
   "metadata": {},
   "outputs": [
    {
     "name": "stdout",
     "output_type": "stream",
     "text": [
      " * sqlite:///bancodados.db\n",
      "Done.\n"
     ]
    },
    {
     "data": {
      "text/html": [
       "<table>\n",
       "    <thead>\n",
       "        <tr>\n",
       "            <th>ID_Cliente</th>\n",
       "            <th>Nome</th>\n",
       "            <th>Idade</th>\n",
       "            <th>Cidade</th>\n",
       "            <th>ID_Pedido</th>\n",
       "            <th>Produto</th>\n",
       "            <th>Quantidade</th>\n",
       "            <th>Preco</th>\n",
       "        </tr>\n",
       "    </thead>\n",
       "    <tbody>\n",
       "        <tr>\n",
       "            <td>1</td>\n",
       "            <td>Luiz</td>\n",
       "            <td>30</td>\n",
       "            <td>São Paulo</td>\n",
       "            <td>101</td>\n",
       "            <td>Camisa</td>\n",
       "            <td>2</td>\n",
       "            <td>30.0</td>\n",
       "        </tr>\n",
       "        <tr>\n",
       "            <td>1</td>\n",
       "            <td>Luiz</td>\n",
       "            <td>30</td>\n",
       "            <td>São Paulo</td>\n",
       "            <td>106</td>\n",
       "            <td>Camisa</td>\n",
       "            <td>2</td>\n",
       "            <td>80.0</td>\n",
       "        </tr>\n",
       "        <tr>\n",
       "            <td>1</td>\n",
       "            <td>Luiz</td>\n",
       "            <td>30</td>\n",
       "            <td>São Paulo</td>\n",
       "            <td>110</td>\n",
       "            <td>Blusa</td>\n",
       "            <td>1</td>\n",
       "            <td>5.0</td>\n",
       "        </tr>\n",
       "        <tr>\n",
       "            <td>2</td>\n",
       "            <td>Graziela</td>\n",
       "            <td>28</td>\n",
       "            <td>Rio de Janeiro</td>\n",
       "            <td>103</td>\n",
       "            <td>Vestido</td>\n",
       "            <td>3</td>\n",
       "            <td>42.0</td>\n",
       "        </tr>\n",
       "        <tr>\n",
       "            <td>2</td>\n",
       "            <td>Graziela</td>\n",
       "            <td>28</td>\n",
       "            <td>Rio de Janeiro</td>\n",
       "            <td>107</td>\n",
       "            <td>Calça</td>\n",
       "            <td>1</td>\n",
       "            <td>12.99</td>\n",
       "        </tr>\n",
       "        <tr>\n",
       "            <td>3</td>\n",
       "            <td>Ricardo</td>\n",
       "            <td>35</td>\n",
       "            <td>Salvador</td>\n",
       "            <td>102</td>\n",
       "            <td>Calça</td>\n",
       "            <td>1</td>\n",
       "            <td>35.0</td>\n",
       "        </tr>\n",
       "        <tr>\n",
       "            <td>3</td>\n",
       "            <td>Ricardo</td>\n",
       "            <td>35</td>\n",
       "            <td>Salvador</td>\n",
       "            <td>108</td>\n",
       "            <td>Vestido</td>\n",
       "            <td>3</td>\n",
       "            <td>30.0</td>\n",
       "        </tr>\n",
       "        <tr>\n",
       "            <td>4</td>\n",
       "            <td>Mariana</td>\n",
       "            <td>28</td>\n",
       "            <td>São Paulo</td>\n",
       "            <td>105</td>\n",
       "            <td>Blusa</td>\n",
       "            <td>1</td>\n",
       "            <td>9.9</td>\n",
       "        </tr>\n",
       "        <tr>\n",
       "            <td>5</td>\n",
       "            <td>Leonardo</td>\n",
       "            <td>40</td>\n",
       "            <td>Recife</td>\n",
       "            <td>104</td>\n",
       "            <td>Sapato</td>\n",
       "            <td>2</td>\n",
       "            <td>15.5</td>\n",
       "        </tr>\n",
       "        <tr>\n",
       "            <td>6</td>\n",
       "            <td>Beatriz</td>\n",
       "            <td>16</td>\n",
       "            <td>São Paulo</td>\n",
       "            <td>109</td>\n",
       "            <td>Sapato</td>\n",
       "            <td>2</td>\n",
       "            <td>45.25</td>\n",
       "        </tr>\n",
       "    </tbody>\n",
       "</table>"
      ],
      "text/plain": [
       "[(1, 'Luiz', 30, 'São Paulo', 101, 'Camisa', 2, 30.0),\n",
       " (1, 'Luiz', 30, 'São Paulo', 106, 'Camisa', 2, 80.0),\n",
       " (1, 'Luiz', 30, 'São Paulo', 110, 'Blusa', 1, 5.0),\n",
       " (2, 'Graziela', 28, 'Rio de Janeiro', 103, 'Vestido', 3, 42.0),\n",
       " (2, 'Graziela', 28, 'Rio de Janeiro', 107, 'Calça', 1, 12.99),\n",
       " (3, 'Ricardo', 35, 'Salvador', 102, 'Calça', 1, 35.0),\n",
       " (3, 'Ricardo', 35, 'Salvador', 108, 'Vestido', 3, 30.0),\n",
       " (4, 'Mariana', 28, 'São Paulo', 105, 'Blusa', 1, 9.9),\n",
       " (5, 'Leonardo', 40, 'Recife', 104, 'Sapato', 2, 15.5),\n",
       " (6, 'Beatriz', 16, 'São Paulo', 109, 'Sapato', 2, 45.25)]"
      ]
     },
     "execution_count": 43,
     "metadata": {},
     "output_type": "execute_result"
    }
   ],
   "source": [
    "%%sql \n",
    "\n",
    "SELECT \n",
    "    tbClientes.ID_Cliente, \n",
    "    tbClientes.Nome, \n",
    "    tbClientes.Idade, \n",
    "    tbClientes.Cidade, \n",
    "    tbPedidos.ID_Pedido, \n",
    "    tbPedidos.Produto, \n",
    "    tbPedidos.Quantidade, \n",
    "    tbPedidos.Preco \n",
    "FROM tbClientes \n",
    "    LEFT JOIN tbPedidos ON (tbClientes.ID_Cliente = tbPedidos.ID_Cliente)"
   ]
  },
  {
   "cell_type": "markdown",
   "metadata": {},
   "source": [
    "------------\n",
    "WINDOWS FUNCTIONS"
   ]
  },
  {
   "cell_type": "code",
   "execution_count": 44,
   "metadata": {},
   "outputs": [
    {
     "data": {
      "text/html": [
       "<div>\n",
       "<style scoped>\n",
       "    .dataframe tbody tr th:only-of-type {\n",
       "        vertical-align: middle;\n",
       "    }\n",
       "\n",
       "    .dataframe tbody tr th {\n",
       "        vertical-align: top;\n",
       "    }\n",
       "\n",
       "    .dataframe thead th {\n",
       "        text-align: right;\n",
       "    }\n",
       "</style>\n",
       "<table border=\"1\" class=\"dataframe\">\n",
       "  <thead>\n",
       "    <tr style=\"text-align: right;\">\n",
       "      <th></th>\n",
       "      <th>ID_Pedido</th>\n",
       "      <th>ID_Cliente</th>\n",
       "      <th>Produto</th>\n",
       "      <th>Quantidade</th>\n",
       "      <th>Preco</th>\n",
       "      <th>MediaPreco</th>\n",
       "    </tr>\n",
       "  </thead>\n",
       "  <tbody>\n",
       "    <tr>\n",
       "      <th>0</th>\n",
       "      <td>101</td>\n",
       "      <td>1</td>\n",
       "      <td>Camisa</td>\n",
       "      <td>2</td>\n",
       "      <td>30.00</td>\n",
       "      <td>55.000</td>\n",
       "    </tr>\n",
       "    <tr>\n",
       "      <th>1</th>\n",
       "      <td>102</td>\n",
       "      <td>3</td>\n",
       "      <td>Calça</td>\n",
       "      <td>1</td>\n",
       "      <td>35.00</td>\n",
       "      <td>23.995</td>\n",
       "    </tr>\n",
       "    <tr>\n",
       "      <th>2</th>\n",
       "      <td>103</td>\n",
       "      <td>2</td>\n",
       "      <td>Vestido</td>\n",
       "      <td>3</td>\n",
       "      <td>42.00</td>\n",
       "      <td>36.000</td>\n",
       "    </tr>\n",
       "    <tr>\n",
       "      <th>3</th>\n",
       "      <td>104</td>\n",
       "      <td>5</td>\n",
       "      <td>Sapato</td>\n",
       "      <td>2</td>\n",
       "      <td>15.50</td>\n",
       "      <td>30.375</td>\n",
       "    </tr>\n",
       "    <tr>\n",
       "      <th>4</th>\n",
       "      <td>105</td>\n",
       "      <td>4</td>\n",
       "      <td>Blusa</td>\n",
       "      <td>1</td>\n",
       "      <td>9.90</td>\n",
       "      <td>7.450</td>\n",
       "    </tr>\n",
       "    <tr>\n",
       "      <th>5</th>\n",
       "      <td>106</td>\n",
       "      <td>1</td>\n",
       "      <td>Camisa</td>\n",
       "      <td>2</td>\n",
       "      <td>80.00</td>\n",
       "      <td>55.000</td>\n",
       "    </tr>\n",
       "    <tr>\n",
       "      <th>6</th>\n",
       "      <td>107</td>\n",
       "      <td>2</td>\n",
       "      <td>Calça</td>\n",
       "      <td>1</td>\n",
       "      <td>12.99</td>\n",
       "      <td>23.995</td>\n",
       "    </tr>\n",
       "    <tr>\n",
       "      <th>7</th>\n",
       "      <td>108</td>\n",
       "      <td>3</td>\n",
       "      <td>Vestido</td>\n",
       "      <td>3</td>\n",
       "      <td>30.00</td>\n",
       "      <td>36.000</td>\n",
       "    </tr>\n",
       "    <tr>\n",
       "      <th>8</th>\n",
       "      <td>109</td>\n",
       "      <td>6</td>\n",
       "      <td>Sapato</td>\n",
       "      <td>2</td>\n",
       "      <td>45.25</td>\n",
       "      <td>30.375</td>\n",
       "    </tr>\n",
       "    <tr>\n",
       "      <th>9</th>\n",
       "      <td>110</td>\n",
       "      <td>1</td>\n",
       "      <td>Blusa</td>\n",
       "      <td>1</td>\n",
       "      <td>5.00</td>\n",
       "      <td>7.450</td>\n",
       "    </tr>\n",
       "  </tbody>\n",
       "</table>\n",
       "</div>"
      ],
      "text/plain": [
       "   ID_Pedido  ID_Cliente  Produto  Quantidade  Preco  MediaPreco\n",
       "0        101           1   Camisa           2  30.00      55.000\n",
       "1        102           3    Calça           1  35.00      23.995\n",
       "2        103           2  Vestido           3  42.00      36.000\n",
       "3        104           5   Sapato           2  15.50      30.375\n",
       "4        105           4    Blusa           1   9.90       7.450\n",
       "5        106           1   Camisa           2  80.00      55.000\n",
       "6        107           2    Calça           1  12.99      23.995\n",
       "7        108           3  Vestido           3  30.00      36.000\n",
       "8        109           6   Sapato           2  45.25      30.375\n",
       "9        110           1    Blusa           1   5.00       7.450"
      ]
     },
     "execution_count": 44,
     "metadata": {},
     "output_type": "execute_result"
    }
   ],
   "source": [
    "pedidos_df[\"MediaPreco\"] = pedidos_df.groupby(\"Produto\")[\"Preco\"].transform(\"mean\")\n",
    "pedidos_df"
   ]
  },
  {
   "cell_type": "code",
   "execution_count": 45,
   "metadata": {},
   "outputs": [
    {
     "name": "stdout",
     "output_type": "stream",
     "text": [
      " * sqlite:///bancodados.db\n",
      "Done.\n"
     ]
    },
    {
     "data": {
      "text/html": [
       "<table>\n",
       "    <thead>\n",
       "        <tr>\n",
       "            <th>ID_Pedido</th>\n",
       "            <th>Produto</th>\n",
       "            <th>Preco</th>\n",
       "            <th>avg_salary_per_department</th>\n",
       "        </tr>\n",
       "    </thead>\n",
       "    <tbody>\n",
       "        <tr>\n",
       "            <td>101</td>\n",
       "            <td>Camisa</td>\n",
       "            <td>30.0</td>\n",
       "            <td>55.0</td>\n",
       "        </tr>\n",
       "        <tr>\n",
       "            <td>102</td>\n",
       "            <td>Calça</td>\n",
       "            <td>35.0</td>\n",
       "            <td>23.995</td>\n",
       "        </tr>\n",
       "        <tr>\n",
       "            <td>103</td>\n",
       "            <td>Vestido</td>\n",
       "            <td>42.0</td>\n",
       "            <td>36.0</td>\n",
       "        </tr>\n",
       "        <tr>\n",
       "            <td>104</td>\n",
       "            <td>Sapato</td>\n",
       "            <td>15.5</td>\n",
       "            <td>30.375</td>\n",
       "        </tr>\n",
       "        <tr>\n",
       "            <td>105</td>\n",
       "            <td>Blusa</td>\n",
       "            <td>9.9</td>\n",
       "            <td>7.45</td>\n",
       "        </tr>\n",
       "        <tr>\n",
       "            <td>106</td>\n",
       "            <td>Camisa</td>\n",
       "            <td>80.0</td>\n",
       "            <td>55.0</td>\n",
       "        </tr>\n",
       "        <tr>\n",
       "            <td>107</td>\n",
       "            <td>Calça</td>\n",
       "            <td>12.99</td>\n",
       "            <td>23.995</td>\n",
       "        </tr>\n",
       "        <tr>\n",
       "            <td>108</td>\n",
       "            <td>Vestido</td>\n",
       "            <td>30.0</td>\n",
       "            <td>36.0</td>\n",
       "        </tr>\n",
       "        <tr>\n",
       "            <td>109</td>\n",
       "            <td>Sapato</td>\n",
       "            <td>45.25</td>\n",
       "            <td>30.375</td>\n",
       "        </tr>\n",
       "        <tr>\n",
       "            <td>110</td>\n",
       "            <td>Blusa</td>\n",
       "            <td>5.0</td>\n",
       "            <td>7.45</td>\n",
       "        </tr>\n",
       "    </tbody>\n",
       "</table>"
      ],
      "text/plain": [
       "[(101, 'Camisa', 30.0, 55.0),\n",
       " (102, 'Calça', 35.0, 23.995),\n",
       " (103, 'Vestido', 42.0, 36.0),\n",
       " (104, 'Sapato', 15.5, 30.375),\n",
       " (105, 'Blusa', 9.9, 7.45),\n",
       " (106, 'Camisa', 80.0, 55.0),\n",
       " (107, 'Calça', 12.99, 23.995),\n",
       " (108, 'Vestido', 30.0, 36.0),\n",
       " (109, 'Sapato', 45.25, 30.375),\n",
       " (110, 'Blusa', 5.0, 7.45)]"
      ]
     },
     "execution_count": 45,
     "metadata": {},
     "output_type": "execute_result"
    }
   ],
   "source": [
    "%%sql\n",
    "\n",
    "\n",
    "SELECT \n",
    "    ID_Pedido,\n",
    "    Produto,\n",
    "    Preco,\n",
    "    AVG(Preco) OVER (PARTITION BY Produto) AS avg_salary_per_department\n",
    "FROM \n",
    "    tbPedidos\n",
    "ORDER BY\n",
    "    ID_Pedido"
   ]
  },
  {
   "cell_type": "code",
   "execution_count": null,
   "metadata": {},
   "outputs": [],
   "source": []
  },
  {
   "cell_type": "code",
   "execution_count": null,
   "metadata": {},
   "outputs": [],
   "source": []
  },
  {
   "cell_type": "code",
   "execution_count": null,
   "metadata": {},
   "outputs": [],
   "source": []
  },
  {
   "cell_type": "code",
   "execution_count": null,
   "metadata": {},
   "outputs": [],
   "source": []
  },
  {
   "cell_type": "code",
   "execution_count": null,
   "metadata": {},
   "outputs": [],
   "source": []
  },
  {
   "cell_type": "code",
   "execution_count": null,
   "metadata": {},
   "outputs": [],
   "source": []
  },
  {
   "cell_type": "code",
   "execution_count": null,
   "metadata": {},
   "outputs": [],
   "source": []
  },
  {
   "cell_type": "markdown",
   "metadata": {},
   "source": [
    "<a id='apagar'>apagar</a>"
   ]
  },
  {
   "cell_type": "code",
   "execution_count": 7,
   "metadata": {},
   "outputs": [
    {
     "name": "stdout",
     "output_type": "stream",
     "text": [
      "Acesso Negado: Não foi possível realizar a exclusão do bando de dados.\n"
     ]
    }
   ],
   "source": [
    "try:\n",
    "    # Fecha a conexão com o banco de dados e apaga o banco de dados\n",
    "    if os.path.exists('bancodados.db'):     \n",
    "        conexao.close()  \n",
    "        os.remove('bancodados.db')\n",
    "        print(\"Banco de dados 'bancodados.db' apagado com sucesso.\")\n",
    "    else:\n",
    "        print(\"O banco de dados 'bancodados.db' não existe.\")\n",
    "except:\n",
    "    print(\"Acesso Negado: Não foi possível realizar a exclusão do bando de dados.\")"
   ]
  },
  {
   "cell_type": "code",
   "execution_count": null,
   "metadata": {},
   "outputs": [],
   "source": []
  }
 ],
 "metadata": {
  "kernelspec": {
   "display_name": "Python 3 (ipykernel)",
   "language": "python",
   "name": "python3"
  },
  "language_info": {
   "codemirror_mode": {
    "name": "ipython",
    "version": 3
   },
   "file_extension": ".py",
   "mimetype": "text/x-python",
   "name": "python",
   "nbconvert_exporter": "python",
   "pygments_lexer": "ipython3",
   "version": "3.12.0"
  }
 },
 "nbformat": 4,
 "nbformat_minor": 4
}
