{
 "cells": [
  {
   "cell_type": "markdown",
   "metadata": {},
   "source": [
    "<h1 style='background-color: #FAF9F6; color: #11557C; text-align: left; font-family: 'Arial', sans-serif; padding: 20px; border-bottom: 1px solid #11557C;'>\n",
    "    SQL Interativo\n",
    "</h1>"
   ]
  },
  {
   "cell_type": "markdown",
   "metadata": {
    "jp-MarkdownHeadingCollapsed": true
   },
   "source": [
    "#### Preparando o Banco de Dados\n",
    "\n",
    "Para começar, execute o código a seguir. Ele é necessário para criar e preparar o banco de dados e o ambiente para podermos utilizar comandos **SQL** no **Jupyter Notebook**.  \n",
    "Não se preocupe em entender e interpretar esta parte, o objetivo deste notebook são os comandos SQL das próximas células!\n",
    "\n",
    "Como requisito, você deve adicionar **```%%sql```** na célula de código antes de executar um comando SQL, ok?"
   ]
  },
  {
   "cell_type": "code",
   "execution_count": 6,
   "metadata": {},
   "outputs": [
    {
     "name": "stdout",
     "output_type": "stream",
     "text": [
      "\n",
      "\n",
      "Banco de Dados 'bancodados.db' OK.\n",
      "Tabelas 'tbClientes' e 'tbProdutos' OK.\n"
     ]
    }
   ],
   "source": [
    "# Preparando o Banco de Dados\n",
    "\n",
    "import pandas as pd\n",
    "import sqlite3 \n",
    "import os\n",
    "\n",
    "\n",
    "# --- Criação dos DataFrames ---\n",
    "# DataFrame de Clientes\n",
    "dados_clientes = {\n",
    "    'id_cliente': [1, 2, 3, 4, 5, 6, 7, 8, 9, 10],\n",
    "    'nome': ['João', 'Maria', 'Pedro', 'Ana', 'Carlos', 'Clara', 'Luiz', 'Graziela', 'Beatriz', 'Mariana'],\n",
    "    'idade': [20, 25, 30, 35, 40, 51, 44, 47, 22, 18],\n",
    "    'email': ['joao@email.com', 'maria@email.com', 'pedro@email.com', 'ana@email.com', 'carlos@email.com', 'clara@email.com', 'luiz@email.com', 'grazi@email.com', 'bia@email.com', 'mari@email.com'],\n",
    "    'cidade': ['São Paulo', 'Rio de Janeiro', 'Porto Alegre', 'Belo Horizonte', 'Salvador', 'Recife', 'Santos', 'São Paulo', 'Salvador', 'Guarulhos'],\n",
    "    'estado': ['SP', 'RJ', 'RS', 'MG', 'BA', 'PE', 'SP', 'SP', 'BA', 'SP']\n",
    "}\n",
    "\n",
    "# DataFrame de Pedidos\n",
    "dados_pedidos = {\n",
    "    'id_pedido': [1, 2, 3, 4, 5, 6, 7, 8, 9, 10, 11, 12, 13, 14, 15],\n",
    "    'id_cliente': [1, 1, 1, 1, 2, 2, 3, 3, 3, 3, 3, 3, 4, 6, 6],\n",
    "    'produto': ['celular', 'videogame', 'computador', 'celular', 'videogame', 'televisão', 'computador', 'celular', 'videogame', 'televisão', 'televisão', 'computador', 'celular', 'videogame', 'televisão'],\n",
    "    'marca': ['ACME', 'XPTO', 'ICOMP', 'ACME', 'XPTO', 'ICOMP', 'ACME', 'XPTO', 'ICOMP', 'ACME','ACME','ACME','XPTO','XPTO','XPTO'],\n",
    "    'quantidade': [1, 2, 1, 1, 1, 2, 3, 1, 1, 2, 3, 1, 1, 2, 1],\n",
    "    'preco': [1250.00, 4250.50, 1750.99, 3750.25, 2250.00, 5250.50, 2750.00, 4750.25, 3250.00, 1400.00, 1250.00, 4250.50, 1750.99, 3750.25, 2250.00]\n",
    "}\n",
    "\n",
    "\n",
    "clientes_df = pd.DataFrame(dados_clientes)\n",
    "pedidos_df = pd.DataFrame(dados_pedidos)\n",
    "\n",
    "print(\"\\n\")\n",
    "\n",
    "# criando a conexão\n",
    "if os.path.exists('bancodados.db'):   \n",
    "    print(\"Banco de Dados 'bancodados.db' OK.\")\n",
    "    try:\n",
    "        clientes_df.to_sql('tbClientes', conexao)\n",
    "        pedidos_df.to_sql('tbPedidos', conexao)\n",
    "    except:\n",
    "        print(\"Tabelas 'tbClientes' e 'tbProdutos' OK.\")\n",
    "    %reload_ext sql\n",
    "else:\n",
    "    conexao = sqlite3.connect('bancodados.db')\n",
    "\n",
    "    # criando as  tabelas no banco de dados\n",
    "    clientes_df.to_sql('tbClientes', conexao)\n",
    "    pedidos_df.to_sql('tbPedidos', conexao)\n",
    "\n",
    "    print(\"Banco de Dados 'bancodados.db' OK.\")\n",
    "    print(\"Tabelas 'tbClientes' e 'tbProdutos' OK.\")\n",
    "    \n",
    "    # load the sql module to iPython\n",
    "    %load_ext sql\n",
    "\n",
    "# apontando para o banco de dados que vamos usar\n",
    "%sql sqlite:///bancodados.db"
   ]
  },
  {
   "cell_type": "markdown",
   "metadata": {},
   "source": [
    "#### Estrutura do Banco de Dados\n",
    "![image.png](https://res.cloudinary.com/ddrdmilou/image/upload/w_700/v1699096417/tabelas_vpmlxm.png)"
   ]
  },
  {
   "cell_type": "markdown",
   "metadata": {},
   "source": [
    "-----------\n",
    "### SQL Interativo\n",
    "\n",
    "*Realize as suas consultas no banco de dados na célula abaixo!*  "
   ]
  },
  {
   "cell_type": "code",
   "execution_count": 5,
   "metadata": {},
   "outputs": [
    {
     "name": "stdout",
     "output_type": "stream",
     "text": [
      " * sqlite:///bancodados.db\n",
      "Done.\n"
     ]
    },
    {
     "data": {
      "text/html": [
       "<table>\n",
       "    <thead>\n",
       "        <tr>\n",
       "            <th>nome</th>\n",
       "            <th>idade</th>\n",
       "            <th>cidade</th>\n",
       "            <th>estado</th>\n",
       "        </tr>\n",
       "    </thead>\n",
       "    <tbody>\n",
       "        <tr>\n",
       "            <td>João</td>\n",
       "            <td>20</td>\n",
       "            <td>São Paulo</td>\n",
       "            <td>SP</td>\n",
       "        </tr>\n",
       "        <tr>\n",
       "            <td>Maria</td>\n",
       "            <td>25</td>\n",
       "            <td>Rio de Janeiro</td>\n",
       "            <td>RJ</td>\n",
       "        </tr>\n",
       "        <tr>\n",
       "            <td>Pedro</td>\n",
       "            <td>30</td>\n",
       "            <td>Porto Alegre</td>\n",
       "            <td>RS</td>\n",
       "        </tr>\n",
       "        <tr>\n",
       "            <td>Ana</td>\n",
       "            <td>35</td>\n",
       "            <td>Belo Horizonte</td>\n",
       "            <td>MG</td>\n",
       "        </tr>\n",
       "        <tr>\n",
       "            <td>Carlos</td>\n",
       "            <td>40</td>\n",
       "            <td>Salvador</td>\n",
       "            <td>BA</td>\n",
       "        </tr>\n",
       "        <tr>\n",
       "            <td>Clara</td>\n",
       "            <td>51</td>\n",
       "            <td>Recife</td>\n",
       "            <td>PE</td>\n",
       "        </tr>\n",
       "        <tr>\n",
       "            <td>Luiz</td>\n",
       "            <td>44</td>\n",
       "            <td>Santos</td>\n",
       "            <td>SP</td>\n",
       "        </tr>\n",
       "        <tr>\n",
       "            <td>Graziela</td>\n",
       "            <td>47</td>\n",
       "            <td>São Paulo</td>\n",
       "            <td>SP</td>\n",
       "        </tr>\n",
       "        <tr>\n",
       "            <td>Beatriz</td>\n",
       "            <td>22</td>\n",
       "            <td>Salvador</td>\n",
       "            <td>BA</td>\n",
       "        </tr>\n",
       "        <tr>\n",
       "            <td>Mariana</td>\n",
       "            <td>18</td>\n",
       "            <td>Guarulhos</td>\n",
       "            <td>SP</td>\n",
       "        </tr>\n",
       "    </tbody>\n",
       "</table>"
      ],
      "text/plain": [
       "[('João', 20, 'São Paulo', 'SP'),\n",
       " ('Maria', 25, 'Rio de Janeiro', 'RJ'),\n",
       " ('Pedro', 30, 'Porto Alegre', 'RS'),\n",
       " ('Ana', 35, 'Belo Horizonte', 'MG'),\n",
       " ('Carlos', 40, 'Salvador', 'BA'),\n",
       " ('Clara', 51, 'Recife', 'PE'),\n",
       " ('Luiz', 44, 'Santos', 'SP'),\n",
       " ('Graziela', 47, 'São Paulo', 'SP'),\n",
       " ('Beatriz', 22, 'Salvador', 'BA'),\n",
       " ('Mariana', 18, 'Guarulhos', 'SP')]"
      ]
     },
     "execution_count": 5,
     "metadata": {},
     "output_type": "execute_result"
    }
   ],
   "source": [
    "%%sql\n",
    "\n",
    "\n",
    "SELECT \n",
    "    nome,\n",
    "    idade,\n",
    "    cidade,\n",
    "    estado\n",
    "FROM\n",
    "    tbClientes\n",
    "\n",
    "\n"
   ]
  },
  {
   "cell_type": "code",
   "execution_count": null,
   "metadata": {},
   "outputs": [],
   "source": []
  }
 ],
 "metadata": {
  "kernelspec": {
   "display_name": "Python 3 (ipykernel)",
   "language": "python",
   "name": "python3"
  },
  "language_info": {
   "codemirror_mode": {
    "name": "ipython",
    "version": 3
   },
   "file_extension": ".py",
   "mimetype": "text/x-python",
   "name": "python",
   "nbconvert_exporter": "python",
   "pygments_lexer": "ipython3",
   "version": "3.12.0"
  }
 },
 "nbformat": 4,
 "nbformat_minor": 4
}
